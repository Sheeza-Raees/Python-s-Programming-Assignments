{
 "cells": [
  {
   "cell_type": "code",
   "execution_count": 1,
   "metadata": {},
   "outputs": [
    {
     "name": "stdout",
     "output_type": "stream",
     "text": [
      "Twinkle, twinkle, little star, \n",
      "      How I wonder what you are! \n",
      "            Up above the world so high, \n",
      "            Like a dimond in the sky.\n",
      "Twinkle, twinkle, little star, \n",
      "       How I wonder what you are! \n",
      "\n"
     ]
    }
   ],
   "source": [
    "\n",
    "a=\"Twinkle, twinkle, little star, \\n\"\n",
    "b=\"How I wonder what you are! \\n\"\n",
    "c=\"Up above the world so high, \\n\"\n",
    "d=\"Like a dimond in the sky.\\n\"\n",
    "print(a+\"      \"+b+\"            \"+c+\"            \"+d+a+\"       \"+b)\n",
    " "
   ]
  },
  {
   "cell_type": "code",
   "execution_count": 2,
   "metadata": {},
   "outputs": [
    {
     "name": "stdout",
     "output_type": "stream",
     "text": [
      "Python Version\n",
      "3.7.4 (default, Aug  9 2019, 18:34:13) [MSC v.1915 64 bit (AMD64)]\n"
     ]
    }
   ],
   "source": [
    "\n",
    "import sys\n",
    "print(\"Python Version\")\n",
    "print(sys.version)\n"
   ]
  },
  {
   "cell_type": "code",
   "execution_count": 3,
   "metadata": {},
   "outputs": [
    {
     "name": "stdout",
     "output_type": "stream",
     "text": [
      "Current date and time:\n",
      "2019-11-05 17:00:58.976845\n"
     ]
    }
   ],
   "source": [
    "import datetime\n",
    "now=datetime.datetime.now()\n",
    "print(\"Current date and time:\")\n",
    "print(now)\n"
   ]
  },
  {
   "cell_type": "code",
   "execution_count": 5,
   "metadata": {},
   "outputs": [
    {
     "name": "stdout",
     "output_type": "stream",
     "text": [
      "Enter the value of radius3\n",
      "27.900000000000002\n"
     ]
    }
   ],
   "source": [
    "\n",
    "a=int (input(\"Enter the value of radius\"))\n",
    "b=3.14\n",
    "c= a**2*b\n",
    "print(c)"
   ]
  },
  {
   "cell_type": "code",
   "execution_count": 6,
   "metadata": {},
   "outputs": [
    {
     "name": "stdout",
     "output_type": "stream",
     "text": [
      "Enter user's first name:Sheeza\n",
      "Enter user's last name:Raees\n",
      "Raees Sheeza\n"
     ]
    }
   ],
   "source": [
    "a=input (\"Enter user's first name:\")\n",
    "b=input (\"Enter user's last name:\")\n",
    "print(b+\" \"+a)"
   ]
  },
  {
   "cell_type": "code",
   "execution_count": 7,
   "metadata": {},
   "outputs": [
    {
     "name": "stdout",
     "output_type": "stream",
     "text": [
      "Enter first number:4\n",
      "Enter second number:5\n",
      "9\n"
     ]
    }
   ],
   "source": [
    "a=int (input(\"Enter first number:\"))\n",
    "b=int (input(\"Enter second number:\"))\n",
    "c=a+b\n",
    "print(c)"
   ]
  },
  {
   "cell_type": "code",
   "execution_count": null,
   "metadata": {},
   "outputs": [],
   "source": []
  }
 ],
 "metadata": {
  "kernelspec": {
   "display_name": "Python 3",
   "language": "python",
   "name": "python3"
  },
  "language_info": {
   "codemirror_mode": {
    "name": "ipython",
    "version": 3
   },
   "file_extension": ".py",
   "mimetype": "text/x-python",
   "name": "python",
   "nbconvert_exporter": "python",
   "pygments_lexer": "ipython3",
   "version": "3.7.4"
  }
 },
 "nbformat": 4,
 "nbformat_minor": 2
}
